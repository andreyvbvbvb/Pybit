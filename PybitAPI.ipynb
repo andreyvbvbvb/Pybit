{
 "cells": [
  {
   "cell_type": "code",
   "execution_count": 9,
   "id": "5174c6d3",
   "metadata": {},
   "outputs": [
    {
     "name": "stdout",
     "output_type": "stream",
     "text": [
      "Requirement already satisfied: pybit in /Library/Frameworks/Python.framework/Versions/3.11/lib/python3.11/site-packages (5.6.2)\n",
      "Requirement already satisfied: requests in /Library/Frameworks/Python.framework/Versions/3.11/lib/python3.11/site-packages (from pybit) (2.31.0)\n",
      "Requirement already satisfied: websocket-client in /Library/Frameworks/Python.framework/Versions/3.11/lib/python3.11/site-packages (from pybit) (1.6.1)\n",
      "Requirement already satisfied: websockets in /Library/Frameworks/Python.framework/Versions/3.11/lib/python3.11/site-packages (from pybit) (12.0)\n",
      "Requirement already satisfied: pycryptodome in /Library/Frameworks/Python.framework/Versions/3.11/lib/python3.11/site-packages (from pybit) (3.19.0)\n",
      "Requirement already satisfied: charset-normalizer<4,>=2 in /Library/Frameworks/Python.framework/Versions/3.11/lib/python3.11/site-packages (from requests->pybit) (3.2.0)\n",
      "Requirement already satisfied: idna<4,>=2.5 in /Library/Frameworks/Python.framework/Versions/3.11/lib/python3.11/site-packages (from requests->pybit) (3.4)\n",
      "Requirement already satisfied: urllib3<3,>=1.21.1 in /Library/Frameworks/Python.framework/Versions/3.11/lib/python3.11/site-packages (from requests->pybit) (1.26.16)\n",
      "Requirement already satisfied: certifi>=2017.4.17 in /Library/Frameworks/Python.framework/Versions/3.11/lib/python3.11/site-packages (from requests->pybit) (2023.7.22)\n",
      "\n",
      "\u001b[1m[\u001b[0m\u001b[34;49mnotice\u001b[0m\u001b[1;39;49m]\u001b[0m\u001b[39;49m A new release of pip is available: \u001b[0m\u001b[31;49m23.1.2\u001b[0m\u001b[39;49m -> \u001b[0m\u001b[32;49m23.3.1\u001b[0m\n",
      "\u001b[1m[\u001b[0m\u001b[34;49mnotice\u001b[0m\u001b[1;39;49m]\u001b[0m\u001b[39;49m To update, run: \u001b[0m\u001b[32;49mpip3 install --upgrade pip\u001b[0m\n",
      "Note: you may need to restart the kernel to use updated packages.\n"
     ]
    }
   ],
   "source": [
    "pip install pybit"
   ]
  },
  {
   "cell_type": "code",
   "execution_count": 4,
   "id": "852fe484",
   "metadata": {},
   "outputs": [
    {
     "name": "stdout",
     "output_type": "stream",
     "text": [
      "4.16 ns ± 0.0689 ns per loop (mean ± std. dev. of 7 runs, 100,000,000 loops each)\n"
     ]
    }
   ],
   "source": [
    "%timeit 2*2"
   ]
  },
  {
   "cell_type": "code",
   "execution_count": 71,
   "id": "d516ab1c",
   "metadata": {},
   "outputs": [],
   "source": [
    "from pybit.unified_trading import HTTP"
   ]
  },
  {
   "cell_type": "code",
   "execution_count": 72,
   "id": "51824da4",
   "metadata": {},
   "outputs": [],
   "source": [
    "session = HTTP(\n",
    "    testnet=False,\n",
    "    api_key=\"JMuJ1qZ46jLoizVBkP\",\n",
    "    api_secret=\"PqVbO9xtp7h3VeSbkRwP6Fkqur9VpMxyPuqv1\",\n",
    ")"
   ]
  },
  {
   "cell_type": "code",
   "execution_count": 88,
   "id": "854983e5",
   "metadata": {},
   "outputs": [
    {
     "name": "stdout",
     "output_type": "stream",
     "text": [
      "{'retCode': 0, 'retMsg': 'OK', 'result': {'orderId': '1567498800138819584', 'orderLinkId': '17015964183311702'}, 'retExtInfo': {}, 'time': 1701596418340}\n"
     ]
    }
   ],
   "source": [
    "print(session.place_order(\n",
    "    category=\"spot\",\n",
    "    symbol=\"TONUSDT\",\n",
    "    side=\"Sell\",\n",
    "    orderType=\"Limit\",\n",
    "    price='2.5',\n",
    "    qty=1,\n",
    "))\n"
   ]
  },
  {
   "cell_type": "code",
   "execution_count": 89,
   "id": "07d617c1",
   "metadata": {},
   "outputs": [
    {
     "name": "stdout",
     "output_type": "stream",
     "text": [
      "{'retCode': 0, 'retMsg': 'OK', 'result': {'orderId': '1567498800138819584', 'orderLinkId': '17015964183311702'}, 'retExtInfo': {}, 'time': 1701596420503}\n"
     ]
    }
   ],
   "source": [
    "a = (session.get_open_orders(\n",
    "    category=\"spot\",\n",
    "    symbol=\"TONUSDT\",\n",
    "    openOnly=0,\n",
    "    limit=1,\n",
    ")['result']['list'][0]['orderId'\n",
    "])\n",
    "print(session.cancel_order(\n",
    "    category=\"spot\",\n",
    "    symbol=\"TONUSDT\",\n",
    "    orderId=a,\n",
    "))"
   ]
  },
  {
   "cell_type": "code",
   "execution_count": 64,
   "id": "958417e0",
   "metadata": {},
   "outputs": [
    {
     "name": "stdout",
     "output_type": "stream",
     "text": [
      "{'retCode': 0, 'retMsg': 'SUCCESS', 'category': 'option', 'result': [{'period': 30, 'value': '0.37805179', 'time': '1701590400000'}]}\n"
     ]
    }
   ],
   "source": [
    "session = HTTP(testnet=True)\n",
    "print(session.get_historical_volatility(\n",
    "    category=\"option\",\n",
    "    baseCoin=\"BTC\",\n",
    "    period=30,\n",
    "))"
   ]
  },
  {
   "cell_type": "markdown",
   "id": "acf11efd",
   "metadata": {},
   "source": [
    "### Получить данные о кошельке "
   ]
  },
  {
   "cell_type": "code",
   "execution_count": 70,
   "id": "0098f9d2",
   "metadata": {},
   "outputs": [
    {
     "ename": "PermissionError",
     "evalue": "Authenticated endpoints require keys.",
     "output_type": "error",
     "traceback": [
      "\u001b[0;31m---------------------------------------------------------------------------\u001b[0m",
      "\u001b[0;31mPermissionError\u001b[0m                           Traceback (most recent call last)",
      "Cell \u001b[0;32mIn[70], line 1\u001b[0m\n\u001b[0;32m----> 1\u001b[0m \u001b[38;5;28mprint\u001b[39m(\u001b[43msession\u001b[49m\u001b[38;5;241;43m.\u001b[39;49m\u001b[43mget_wallet_balance\u001b[49m\u001b[43m(\u001b[49m\n\u001b[1;32m      2\u001b[0m \u001b[43m    \u001b[49m\u001b[43maccountType\u001b[49m\u001b[38;5;241;43m=\u001b[39;49m\u001b[38;5;124;43m\"\u001b[39;49m\u001b[38;5;124;43mSPOT\u001b[39;49m\u001b[38;5;124;43m\"\u001b[39;49m\u001b[43m,\u001b[49m\n\u001b[1;32m      3\u001b[0m \u001b[43m    \u001b[49m\u001b[43mcoin\u001b[49m\u001b[38;5;241;43m=\u001b[39;49m\u001b[38;5;124;43m\"\u001b[39;49m\u001b[38;5;124;43mTON\u001b[39;49m\u001b[38;5;124;43m\"\u001b[39;49m\u001b[43m,\u001b[49m\n\u001b[1;32m      4\u001b[0m \u001b[43m)\u001b[49m)\n",
      "File \u001b[0;32m/Library/Frameworks/Python.framework/Versions/3.11/lib/python3.11/site-packages/pybit/_v5_account.py:21\u001b[0m, in \u001b[0;36mAccountHTTP.get_wallet_balance\u001b[0;34m(self, **kwargs)\u001b[0m\n\u001b[1;32m      6\u001b[0m \u001b[38;5;28;01mdef\u001b[39;00m \u001b[38;5;21mget_wallet_balance\u001b[39m(\u001b[38;5;28mself\u001b[39m, \u001b[38;5;241m*\u001b[39m\u001b[38;5;241m*\u001b[39mkwargs):\n\u001b[1;32m      7\u001b[0m \u001b[38;5;250m    \u001b[39m\u001b[38;5;124;03m\"\"\"Obtain wallet balance, query asset information of each currency, and account risk rate information under unified margin mode.\u001b[39;00m\n\u001b[1;32m      8\u001b[0m \u001b[38;5;124;03m    By default, currency information with assets or liabilities of 0 is not returned.\u001b[39;00m\n\u001b[1;32m      9\u001b[0m \n\u001b[0;32m   (...)\u001b[0m\n\u001b[1;32m     19\u001b[0m \u001b[38;5;124;03m        https://bybit-exchange.github.io/docs/v5/account/wallet-balance\u001b[39;00m\n\u001b[1;32m     20\u001b[0m \u001b[38;5;124;03m    \"\"\"\u001b[39;00m\n\u001b[0;32m---> 21\u001b[0m     \u001b[38;5;28;01mreturn\u001b[39;00m \u001b[38;5;28;43mself\u001b[39;49m\u001b[38;5;241;43m.\u001b[39;49m\u001b[43m_submit_request\u001b[49m\u001b[43m(\u001b[49m\n\u001b[1;32m     22\u001b[0m \u001b[43m        \u001b[49m\u001b[43mmethod\u001b[49m\u001b[38;5;241;43m=\u001b[39;49m\u001b[38;5;124;43m\"\u001b[39;49m\u001b[38;5;124;43mGET\u001b[39;49m\u001b[38;5;124;43m\"\u001b[39;49m\u001b[43m,\u001b[49m\n\u001b[1;32m     23\u001b[0m \u001b[43m        \u001b[49m\u001b[43mpath\u001b[49m\u001b[38;5;241;43m=\u001b[39;49m\u001b[38;5;124;43mf\u001b[39;49m\u001b[38;5;124;43m\"\u001b[39;49m\u001b[38;5;132;43;01m{\u001b[39;49;00m\u001b[38;5;28;43mself\u001b[39;49m\u001b[38;5;241;43m.\u001b[39;49m\u001b[43mendpoint\u001b[49m\u001b[38;5;132;43;01m}\u001b[39;49;00m\u001b[38;5;132;43;01m{\u001b[39;49;00m\u001b[43mAccount\u001b[49m\u001b[38;5;241;43m.\u001b[39;49m\u001b[43mGET_WALLET_BALANCE\u001b[49m\u001b[38;5;132;43;01m}\u001b[39;49;00m\u001b[38;5;124;43m\"\u001b[39;49m\u001b[43m,\u001b[49m\n\u001b[1;32m     24\u001b[0m \u001b[43m        \u001b[49m\u001b[43mquery\u001b[49m\u001b[38;5;241;43m=\u001b[39;49m\u001b[43mkwargs\u001b[49m\u001b[43m,\u001b[49m\n\u001b[1;32m     25\u001b[0m \u001b[43m        \u001b[49m\u001b[43mauth\u001b[49m\u001b[38;5;241;43m=\u001b[39;49m\u001b[38;5;28;43;01mTrue\u001b[39;49;00m\u001b[43m,\u001b[49m\n\u001b[1;32m     26\u001b[0m \u001b[43m    \u001b[49m\u001b[43m)\u001b[49m\n",
      "File \u001b[0;32m/Library/Frameworks/Python.framework/Versions/3.11/lib/python3.11/site-packages/pybit/_http_manager.py:224\u001b[0m, in \u001b[0;36m_V5HTTPManager._submit_request\u001b[0;34m(self, method, path, query, auth)\u001b[0m\n\u001b[1;32m    221\u001b[0m \u001b[38;5;28;01mif\u001b[39;00m auth:\n\u001b[1;32m    222\u001b[0m     \u001b[38;5;66;03m# Prepare signature.\u001b[39;00m\n\u001b[1;32m    223\u001b[0m     timestamp \u001b[38;5;241m=\u001b[39m _helpers\u001b[38;5;241m.\u001b[39mgenerate_timestamp()\n\u001b[0;32m--> 224\u001b[0m     signature \u001b[38;5;241m=\u001b[39m \u001b[38;5;28;43mself\u001b[39;49m\u001b[38;5;241;43m.\u001b[39;49m\u001b[43m_auth\u001b[49m\u001b[43m(\u001b[49m\n\u001b[1;32m    225\u001b[0m \u001b[43m        \u001b[49m\u001b[43mpayload\u001b[49m\u001b[38;5;241;43m=\u001b[39;49m\u001b[43mreq_params\u001b[49m\u001b[43m,\u001b[49m\n\u001b[1;32m    226\u001b[0m \u001b[43m        \u001b[49m\u001b[43mrecv_window\u001b[49m\u001b[38;5;241;43m=\u001b[39;49m\u001b[43mrecv_window\u001b[49m\u001b[43m,\u001b[49m\n\u001b[1;32m    227\u001b[0m \u001b[43m        \u001b[49m\u001b[43mtimestamp\u001b[49m\u001b[38;5;241;43m=\u001b[39;49m\u001b[43mtimestamp\u001b[49m\u001b[43m,\u001b[49m\n\u001b[1;32m    228\u001b[0m \u001b[43m    \u001b[49m\u001b[43m)\u001b[49m\n\u001b[1;32m    229\u001b[0m     headers \u001b[38;5;241m=\u001b[39m {\n\u001b[1;32m    230\u001b[0m         \u001b[38;5;124m\"\u001b[39m\u001b[38;5;124mContent-Type\u001b[39m\u001b[38;5;124m\"\u001b[39m: \u001b[38;5;124m\"\u001b[39m\u001b[38;5;124mapplication/json\u001b[39m\u001b[38;5;124m\"\u001b[39m,\n\u001b[1;32m    231\u001b[0m         \u001b[38;5;124m\"\u001b[39m\u001b[38;5;124mX-BAPI-API-KEY\u001b[39m\u001b[38;5;124m\"\u001b[39m: \u001b[38;5;28mself\u001b[39m\u001b[38;5;241m.\u001b[39mapi_key,\n\u001b[0;32m   (...)\u001b[0m\n\u001b[1;32m    235\u001b[0m         \u001b[38;5;124m\"\u001b[39m\u001b[38;5;124mX-BAPI-RECV-WINDOW\u001b[39m\u001b[38;5;124m\"\u001b[39m: \u001b[38;5;28mstr\u001b[39m(recv_window),\n\u001b[1;32m    236\u001b[0m     }\n\u001b[1;32m    237\u001b[0m \u001b[38;5;28;01melse\u001b[39;00m:\n",
      "File \u001b[0;32m/Library/Frameworks/Python.framework/Versions/3.11/lib/python3.11/site-packages/pybit/_http_manager.py:159\u001b[0m, in \u001b[0;36m_V5HTTPManager._auth\u001b[0;34m(self, payload, recv_window, timestamp)\u001b[0m\n\u001b[1;32m    154\u001b[0m \u001b[38;5;250m\u001b[39m\u001b[38;5;124;03m\"\"\"\u001b[39;00m\n\u001b[1;32m    155\u001b[0m \u001b[38;5;124;03mPrepares authentication signature per Bybit API specifications.\u001b[39;00m\n\u001b[1;32m    156\u001b[0m \u001b[38;5;124;03m\"\"\"\u001b[39;00m\n\u001b[1;32m    158\u001b[0m \u001b[38;5;28;01mif\u001b[39;00m \u001b[38;5;28mself\u001b[39m\u001b[38;5;241m.\u001b[39mapi_key \u001b[38;5;129;01mis\u001b[39;00m \u001b[38;5;28;01mNone\u001b[39;00m \u001b[38;5;129;01mor\u001b[39;00m \u001b[38;5;28mself\u001b[39m\u001b[38;5;241m.\u001b[39mapi_secret \u001b[38;5;129;01mis\u001b[39;00m \u001b[38;5;28;01mNone\u001b[39;00m:\n\u001b[0;32m--> 159\u001b[0m     \u001b[38;5;28;01mraise\u001b[39;00m \u001b[38;5;167;01mPermissionError\u001b[39;00m(\u001b[38;5;124m\"\u001b[39m\u001b[38;5;124mAuthenticated endpoints require keys.\u001b[39m\u001b[38;5;124m\"\u001b[39m)\n\u001b[1;32m    161\u001b[0m param_str \u001b[38;5;241m=\u001b[39m \u001b[38;5;28mstr\u001b[39m(timestamp) \u001b[38;5;241m+\u001b[39m \u001b[38;5;28mself\u001b[39m\u001b[38;5;241m.\u001b[39mapi_key \u001b[38;5;241m+\u001b[39m \u001b[38;5;28mstr\u001b[39m(recv_window) \u001b[38;5;241m+\u001b[39m payload\n\u001b[1;32m    163\u001b[0m \u001b[38;5;28;01mreturn\u001b[39;00m generate_signature(\n\u001b[1;32m    164\u001b[0m     \u001b[38;5;28mself\u001b[39m\u001b[38;5;241m.\u001b[39mrsa_authentication, \u001b[38;5;28mself\u001b[39m\u001b[38;5;241m.\u001b[39mapi_secret, param_str\n\u001b[1;32m    165\u001b[0m )\n",
      "\u001b[0;31mPermissionError\u001b[0m: Authenticated endpoints require keys."
     ]
    }
   ],
   "source": [
    "print(session.get_wallet_balance(\n",
    "    accountType=\"SPOT\",\n",
    "    coin=\"TON\",\n",
    "))"
   ]
  },
  {
   "cell_type": "code",
   "execution_count": 61,
   "id": "54d83968",
   "metadata": {},
   "outputs": [
    {
     "ename": "InvalidRequestError",
     "evalue": "Permission denied, please check your API key permissions. (ErrCode: 10005) (ErrTime: 08:29:11).\nRequest → GET https://api.bybit.com/v5/asset/coin-greeks: baseCoin=BTC.",
     "output_type": "error",
     "traceback": [
      "\u001b[0;31m---------------------------------------------------------------------------\u001b[0m",
      "\u001b[0;31mInvalidRequestError\u001b[0m                       Traceback (most recent call last)",
      "Cell \u001b[0;32mIn[61], line 1\u001b[0m\n\u001b[0;32m----> 1\u001b[0m \u001b[38;5;28mprint\u001b[39m(\u001b[43msession\u001b[49m\u001b[38;5;241;43m.\u001b[39;49m\u001b[43mget_coin_greeks\u001b[49m\u001b[43m(\u001b[49m\n\u001b[1;32m      2\u001b[0m \u001b[43m    \u001b[49m\u001b[43mbaseCoin\u001b[49m\u001b[38;5;241;43m=\u001b[39;49m\u001b[38;5;124;43m\"\u001b[39;49m\u001b[38;5;124;43mBTC\u001b[39;49m\u001b[38;5;124;43m\"\u001b[39;49m\u001b[43m,\u001b[49m\n\u001b[1;32m      3\u001b[0m \u001b[43m)\u001b[49m)\n",
      "File \u001b[0;32m/Library/Frameworks/Python.framework/Versions/3.11/lib/python3.11/site-packages/pybit/_v5_account.py:85\u001b[0m, in \u001b[0;36mAccountHTTP.get_coin_greeks\u001b[0;34m(self, **kwargs)\u001b[0m\n\u001b[1;32m     76\u001b[0m \u001b[38;5;28;01mdef\u001b[39;00m \u001b[38;5;21mget_coin_greeks\u001b[39m(\u001b[38;5;28mself\u001b[39m, \u001b[38;5;241m*\u001b[39m\u001b[38;5;241m*\u001b[39mkwargs):\n\u001b[1;32m     77\u001b[0m \u001b[38;5;250m    \u001b[39m\u001b[38;5;124;03m\"\"\"Get current account Greeks information\u001b[39;00m\n\u001b[1;32m     78\u001b[0m \n\u001b[1;32m     79\u001b[0m \u001b[38;5;124;03m    Returns:\u001b[39;00m\n\u001b[0;32m   (...)\u001b[0m\n\u001b[1;32m     83\u001b[0m \u001b[38;5;124;03m        https://bybit-exchange.github.io/docs/v5/account/coin-greeks\u001b[39;00m\n\u001b[1;32m     84\u001b[0m \u001b[38;5;124;03m    \"\"\"\u001b[39;00m\n\u001b[0;32m---> 85\u001b[0m     \u001b[38;5;28;01mreturn\u001b[39;00m \u001b[38;5;28;43mself\u001b[39;49m\u001b[38;5;241;43m.\u001b[39;49m\u001b[43m_submit_request\u001b[49m\u001b[43m(\u001b[49m\n\u001b[1;32m     86\u001b[0m \u001b[43m        \u001b[49m\u001b[43mmethod\u001b[49m\u001b[38;5;241;43m=\u001b[39;49m\u001b[38;5;124;43m\"\u001b[39;49m\u001b[38;5;124;43mGET\u001b[39;49m\u001b[38;5;124;43m\"\u001b[39;49m\u001b[43m,\u001b[49m\n\u001b[1;32m     87\u001b[0m \u001b[43m        \u001b[49m\u001b[43mpath\u001b[49m\u001b[38;5;241;43m=\u001b[39;49m\u001b[38;5;124;43mf\u001b[39;49m\u001b[38;5;124;43m\"\u001b[39;49m\u001b[38;5;132;43;01m{\u001b[39;49;00m\u001b[38;5;28;43mself\u001b[39;49m\u001b[38;5;241;43m.\u001b[39;49m\u001b[43mendpoint\u001b[49m\u001b[38;5;132;43;01m}\u001b[39;49;00m\u001b[38;5;132;43;01m{\u001b[39;49;00m\u001b[43mAccount\u001b[49m\u001b[38;5;241;43m.\u001b[39;49m\u001b[43mGET_COIN_GREEKS\u001b[49m\u001b[38;5;132;43;01m}\u001b[39;49;00m\u001b[38;5;124;43m\"\u001b[39;49m\u001b[43m,\u001b[49m\n\u001b[1;32m     88\u001b[0m \u001b[43m        \u001b[49m\u001b[43mquery\u001b[49m\u001b[38;5;241;43m=\u001b[39;49m\u001b[43mkwargs\u001b[49m\u001b[43m,\u001b[49m\n\u001b[1;32m     89\u001b[0m \u001b[43m        \u001b[49m\u001b[43mauth\u001b[49m\u001b[38;5;241;43m=\u001b[39;49m\u001b[38;5;28;43;01mTrue\u001b[39;49;00m\u001b[43m,\u001b[49m\n\u001b[1;32m     90\u001b[0m \u001b[43m    \u001b[49m\u001b[43m)\u001b[49m\n",
      "File \u001b[0;32m/Library/Frameworks/Python.framework/Versions/3.11/lib/python3.11/site-packages/pybit/_http_manager.py:367\u001b[0m, in \u001b[0;36m_V5HTTPManager._submit_request\u001b[0;34m(self, method, path, query, auth)\u001b[0m\n\u001b[1;32m    364\u001b[0m         \u001b[38;5;28;01mpass\u001b[39;00m\n\u001b[1;32m    366\u001b[0m     \u001b[38;5;28;01melse\u001b[39;00m:\n\u001b[0;32m--> 367\u001b[0m         \u001b[38;5;28;01mraise\u001b[39;00m InvalidRequestError(\n\u001b[1;32m    368\u001b[0m             request\u001b[38;5;241m=\u001b[39m\u001b[38;5;124mf\u001b[39m\u001b[38;5;124m\"\u001b[39m\u001b[38;5;132;01m{\u001b[39;00mmethod\u001b[38;5;132;01m}\u001b[39;00m\u001b[38;5;124m \u001b[39m\u001b[38;5;132;01m{\u001b[39;00mpath\u001b[38;5;132;01m}\u001b[39;00m\u001b[38;5;124m: \u001b[39m\u001b[38;5;132;01m{\u001b[39;00mreq_params\u001b[38;5;132;01m}\u001b[39;00m\u001b[38;5;124m\"\u001b[39m,\n\u001b[1;32m    369\u001b[0m             message\u001b[38;5;241m=\u001b[39ms_json[ret_msg],\n\u001b[1;32m    370\u001b[0m             status_code\u001b[38;5;241m=\u001b[39ms_json[ret_code],\n\u001b[1;32m    371\u001b[0m             time\u001b[38;5;241m=\u001b[39mdt\u001b[38;5;241m.\u001b[39mutcnow()\u001b[38;5;241m.\u001b[39mstrftime(\u001b[38;5;124m\"\u001b[39m\u001b[38;5;124m%\u001b[39m\u001b[38;5;124mH:\u001b[39m\u001b[38;5;124m%\u001b[39m\u001b[38;5;124mM:\u001b[39m\u001b[38;5;124m%\u001b[39m\u001b[38;5;124mS\u001b[39m\u001b[38;5;124m\"\u001b[39m),\n\u001b[1;32m    372\u001b[0m             resp_headers\u001b[38;5;241m=\u001b[39ms\u001b[38;5;241m.\u001b[39mheaders,\n\u001b[1;32m    373\u001b[0m         )\n\u001b[1;32m    374\u001b[0m \u001b[38;5;28;01melse\u001b[39;00m:\n\u001b[1;32m    375\u001b[0m     \u001b[38;5;28;01mif\u001b[39;00m \u001b[38;5;28mself\u001b[39m\u001b[38;5;241m.\u001b[39mlog_requests:\n",
      "\u001b[0;31mInvalidRequestError\u001b[0m: Permission denied, please check your API key permissions. (ErrCode: 10005) (ErrTime: 08:29:11).\nRequest → GET https://api.bybit.com/v5/asset/coin-greeks: baseCoin=BTC."
     ]
    }
   ],
   "source": [
    "print(session.get_coin_greeks(\n",
    "    baseCoin=\"BTC\",\n",
    "))"
   ]
  },
  {
   "cell_type": "code",
   "execution_count": 59,
   "id": "d1f943f4",
   "metadata": {},
   "outputs": [
    {
     "name": "stdout",
     "output_type": "stream",
     "text": [
      "2.5000\n"
     ]
    }
   ],
   "source": [
    "print(session.get_order_history(\n",
    "    category=\"spot\",\n",
    "    limit=,\n",
    ")['result']['list'][0]['price'])"
   ]
  },
  {
   "cell_type": "code",
   "execution_count": null,
   "id": "977b64a3",
   "metadata": {},
   "outputs": [],
   "source": []
  }
 ],
 "metadata": {
  "kernelspec": {
   "display_name": "Python 3 (ipykernel)",
   "language": "python",
   "name": "python3"
  },
  "language_info": {
   "codemirror_mode": {
    "name": "ipython",
    "version": 3
   },
   "file_extension": ".py",
   "mimetype": "text/x-python",
   "name": "python",
   "nbconvert_exporter": "python",
   "pygments_lexer": "ipython3",
   "version": "3.11.4"
  }
 },
 "nbformat": 4,
 "nbformat_minor": 5
}
